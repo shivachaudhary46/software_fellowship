{
 "cells": [
  {
   "cell_type": "code",
   "execution_count": 5,
   "id": "776b837e-d2d0-471d-b365-f179aa0cce60",
   "metadata": {},
   "outputs": [
    {
     "name": "stdin",
     "output_type": "stream",
     "text": [
      "enter age 45\n"
     ]
    },
    {
     "name": "stdout",
     "output_type": "stream",
     "text": [
      "adult\n"
     ]
    }
   ],
   "source": [
    "age = int(input(\"enter age\"))\n",
    "if age <= 16:\n",
    "    print(\"minor\")\n",
    "elif age >= 17 and  age <=70:\n",
    "    print(\"adult\")\n",
    "elif age >= 71 and age <= 1000:\n",
    "    print(\"senior\")"
   ]
  },
  {
   "cell_type": "code",
   "execution_count": 6,
   "id": "034b3755-064f-4dd7-b72f-5deffa96d563",
   "metadata": {},
   "outputs": [
    {
     "name": "stdout",
     "output_type": "stream",
     "text": [
      "0 for kp\n",
      "1 for oli\n",
      "2 for prachanda\n"
     ]
    }
   ],
   "source": [
    "netaharu = ['kp', 'oli', 'prachanda']\n",
    "for index, neta in enumerate(netaharu):\n",
    "    print(f\"{index} for {neta}\")"
   ]
  },
  {
   "cell_type": "code",
   "execution_count": 7,
   "id": "2142e0c5-8b7a-45a9-99d0-b60b51c19585",
   "metadata": {},
   "outputs": [
    {
     "name": "stdout",
     "output_type": "stream",
     "text": [
      "0 is even\n",
      "1 is odd\n",
      "2 is even\n",
      "3 is odd\n",
      "4 is even\n",
      "5 is odd\n",
      "6 is even\n",
      "7 is odd\n",
      "8 is even\n",
      "9 is odd\n",
      "10 is even\n",
      "11 is odd\n"
     ]
    }
   ],
   "source": [
    "for i in range(0, 12):\n",
    "    if i % 2 == 0:\n",
    "        print(i, \"is even\")\n",
    "    else:\n",
    "        print(i, \"is odd\")"
   ]
  },
  {
   "cell_type": "code",
   "execution_count": 12,
   "id": "d277c64c-daf2-4e7a-8428-fc980c8ecc7a",
   "metadata": {},
   "outputs": [
    {
     "name": "stdout",
     "output_type": "stream",
     "text": [
      "5\n"
     ]
    }
   ],
   "source": [
    "def add_numbers(a, b):\n",
    "    print(a+b)\n",
    "\n",
    "add_numbers(2, 3)"
   ]
  },
  {
   "cell_type": "code",
   "execution_count": 14,
   "id": "f3c97a69-4a58-480b-b876-e15c8ca19292",
   "metadata": {},
   "outputs": [
    {
     "name": "stdout",
     "output_type": "stream",
     "text": [
      "[78, 85, 88, 92, 96]\n"
     ]
    }
   ],
   "source": [
    "scores = [85, 92, 78, 96, 88]\n",
    "scores.sort()  # it stores the number by sorting not returning as whole\n",
    "print(scores)"
   ]
  },
  {
   "cell_type": "code",
   "execution_count": 15,
   "id": "def64125-e3be-4999-8236-ebfc6c903228",
   "metadata": {},
   "outputs": [
    {
     "name": "stdout",
     "output_type": "stream",
     "text": [
      "{'email': 'ramu@example.com', 'phone': 9803444444}\n"
     ]
    }
   ],
   "source": [
    "student = {}\n",
    "student[\"email\"] = \"ramu@example.com\"\n",
    "student['phone'] = 9803444444\n",
    "print(student)"
   ]
  },
  {
   "cell_type": "code",
   "execution_count": null,
   "id": "216fed3f-7291-4dee-aa09-119f748bf633",
   "metadata": {},
   "outputs": [],
   "source": []
  }
 ],
 "metadata": {
  "kernelspec": {
   "display_name": "Python [conda env:base] *",
   "language": "python",
   "name": "conda-base-py"
  },
  "language_info": {
   "codemirror_mode": {
    "name": "ipython",
    "version": 3
   },
   "file_extension": ".py",
   "mimetype": "text/x-python",
   "name": "python",
   "nbconvert_exporter": "python",
   "pygments_lexer": "ipython3",
   "version": "3.12.7"
  }
 },
 "nbformat": 4,
 "nbformat_minor": 5
}

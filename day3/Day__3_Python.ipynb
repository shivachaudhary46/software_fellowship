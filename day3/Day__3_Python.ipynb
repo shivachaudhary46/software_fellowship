{
  "cells": [
    {
      "cell_type": "markdown",
      "metadata": {
        "id": "zIq5i8I5nIVb"
      },
      "source": [
        "# Feel Free to Play around Jupyter Notebook\n",
        "## If you are stuck don't worry we are always here to assist you"
      ]
    },
    {
      "cell_type": "markdown",
      "metadata": {
        "id": "5avRLAjJnIVq"
      },
      "source": [
        "# Day 3: Python Scripting + API Usage Practice"
      ]
    },
    {
      "cell_type": "markdown",
      "metadata": {
        "id": "DjsSNx38nIVr"
      },
      "source": [
        "### Syllabus:\n",
        "- Python review: loops, functions, data structures\n",
        "- Writing reusable scripts\n",
        "- Consuming third-party APIs (e.g., OpenWeather, Gemini)\n",
        "- JSON parsing in Python"
      ]
    },
    {
      "cell_type": "markdown",
      "metadata": {
        "id": "MiL9SkCjnIVu"
      },
      "source": [
        "# 1. The Magic of Print() 🎭\n",
        "Your first Python superpower!"
      ]
    },
    {
      "cell_type": "code",
      "execution_count": 1,
      "metadata": {
        "id": "ujRHN_iq2GIn"
      },
      "outputs": [
        {
          "name": "stdout",
          "output_type": "stream",
          "text": [
            "Hello, World!\n"
          ]
        }
      ],
      "source": [
        "print(\"Hello, World!\")"
      ]
    },
    {
      "cell_type": "code",
      "execution_count": 2,
      "metadata": {
        "id": "XtAjsoN3nIVz"
      },
      "outputs": [
        {
          "name": "stdout",
          "output_type": "stream",
          "text": [
            "Hello, Future Python Developer!\n"
          ]
        }
      ],
      "source": [
        "# Basic printing\n",
        "print(\"Hello, Future Python Developer!\")"
      ]
    },
    {
      "cell_type": "code",
      "execution_count": null,
      "metadata": {
        "id": "NqyZ_oYrnIV1"
      },
      "outputs": [],
      "source": [
        "# Multiple items\n",
        "print(\"My name is\", \"Ram\", \"and I'm\", 20, \"years old\")"
      ]
    },
    {
      "cell_type": "code",
      "execution_count": null,
      "metadata": {
        "id": "zpSay8JqnIV3"
      },
      "outputs": [],
      "source": [
        "# With separators\n",
        "print(\"Cat\", \"Dog\", \"Bird\", sep=\" & \")"
      ]
    },
    {
      "cell_type": "markdown",
      "metadata": {
        "id": "4koxAwG_nIV4"
      },
      "source": [
        "#### Question\n",
        "```\n",
        "print(\"🎉\" * 10)\n",
        "```"
      ]
    },
    {
      "cell_type": "code",
      "execution_count": null,
      "metadata": {
        "id": "UEM4GeqInIV5"
      },
      "outputs": [],
      "source": []
    },
    {
      "cell_type": "markdown",
      "metadata": {
        "id": "bgc9ADZonIV6"
      },
      "source": [
        "# 2.  Input() - Talk to Your Computer 💬\n",
        "Making programs interactive (finally!)"
      ]
    },
    {
      "cell_type": "code",
      "execution_count": null,
      "metadata": {
        "id": "znhCNNrInIV6"
      },
      "outputs": [],
      "source": [
        "# Basic input\n",
        "name = input(\"What's your name? \")\n",
        "print(f\"Hello, {name}!\")"
      ]
    },
    {
      "cell_type": "code",
      "execution_count": null,
      "metadata": {
        "id": "x2-D7eMPnIV8"
      },
      "outputs": [],
      "source": [
        "# Input is always a string\n",
        "age = input(\"How old are you? \")\n",
        "print(f\"You are {age} years old\")"
      ]
    },
    {
      "cell_type": "markdown",
      "metadata": {
        "id": "8XaUREwmnIV9"
      },
      "source": [
        "Remember: input() always returns a string, even if you type numbers!"
      ]
    },
    {
      "cell_type": "markdown",
      "metadata": {
        "id": "Tyi3ADg1k_Kb"
      },
      "source": [
        "# 3. Variables - Your Data Storage Units 📦\n",
        "Containers for storing data values. In Python, variables do not need explicit declaration to reserve memory space."
      ]
    },
    {
      "cell_type": "code",
      "execution_count": null,
      "metadata": {
        "id": "bQkkerpA0O8M"
      },
      "outputs": [],
      "source": [
        "# Numbers\n",
        "pizza_slices = 8\n",
        "price = 12.99"
      ]
    },
    {
      "cell_type": "code",
      "execution_count": null,
      "metadata": {
        "id": "hCgRk5itnIV_"
      },
      "outputs": [],
      "source": [
        "# Text (strings)\n",
        "favorite_movie = \"The Matrix\"\n",
        "emoji_mood = \"😎\""
      ]
    },
    {
      "cell_type": "code",
      "execution_count": null,
      "metadata": {
        "id": "JHzS5CE0nIWA"
      },
      "outputs": [],
      "source": [
        "# Boolean (True/False)\n",
        "is_hungry = True\n",
        "loves_python = True  # Obviously!"
      ]
    },
    {
      "cell_type": "markdown",
      "metadata": {
        "id": "ZlW_HSxcnIWB"
      },
      "source": [
        "#### Question\n",
        "Does this work??\n",
        "```\n",
        "x, y, z = 1, 2, 3\n",
        "```"
      ]
    },
    {
      "cell_type": "code",
      "execution_count": null,
      "metadata": {
        "id": "N23oZwwNnIWC"
      },
      "outputs": [],
      "source": []
    },
    {
      "cell_type": "markdown",
      "metadata": {
        "id": "lEeF6AaInIWC"
      },
      "source": [
        "\"Python variables are like teenagers - they change type whenever they want!\""
      ]
    },
    {
      "cell_type": "markdown",
      "metadata": {
        "id": "C_FixEAOnIWD"
      },
      "source": [
        "# 4. Type Conversion - The Shape Shifters 🔄\n",
        "- Converting data types using functions like `int()`, `float()`, `str()`, `bool()`.\n",
        "\n",
        "**Data Types**:\n",
        "- Common data types in Python include integers (`int`), floating-point numbers (`float`), strings (`str`), booleans (`bool`), and lists (`list`)."
      ]
    },
    {
      "cell_type": "code",
      "execution_count": null,
      "metadata": {
        "id": "LcakCX0r2r-L"
      },
      "outputs": [],
      "source": [
        "# String to Integer\n",
        "age_text = \"25\"\n",
        "print(type(age_text))"
      ]
    },
    {
      "cell_type": "code",
      "execution_count": null,
      "metadata": {
        "id": "4Gja-TCCnIWD"
      },
      "outputs": [],
      "source": [
        "print(age_text + 5)"
      ]
    },
    {
      "cell_type": "code",
      "execution_count": null,
      "metadata": {
        "id": "QFLo9eRmnIWE"
      },
      "outputs": [],
      "source": [
        "age_number = int(age)\n",
        "print(age_number + 5)  # Now we can do math!"
      ]
    },
    {
      "cell_type": "code",
      "execution_count": 3,
      "metadata": {
        "id": "FQm2bUF7nIWE"
      },
      "outputs": [],
      "source": [
        "# Integer to String\n",
        "score = 100\n",
        "message = \"Your score is \" + str(score)"
      ]
    },
    {
      "cell_type": "code",
      "execution_count": null,
      "metadata": {
        "id": "hj-s5jdpnIWF"
      },
      "outputs": [],
      "source": [
        "# Float conversions\n",
        "price = float(\"19.99\")\n",
        "whole_price = int(price)  # 19 (loses decimal)"
      ]
    },
    {
      "cell_type": "code",
      "execution_count": null,
      "metadata": {
        "id": "VeQ9pWCPnIWF"
      },
      "outputs": [],
      "source": [
        "# Boolean conversions\n",
        "print(bool(0))      # False\n",
        "print(bool(42))     # True\n",
        "print(bool(\"\"))     # False\n",
        "print(bool(\"Hi\"))   # True"
      ]
    },
    {
      "cell_type": "markdown",
      "metadata": {
        "id": "yJzrST405_qF"
      },
      "source": [
        "### QUESTION\n",
        "What will happen if you try the following?\n",
        "```\n",
        "print(bool(-1))\n",
        "```"
      ]
    },
    {
      "cell_type": "code",
      "execution_count": null,
      "metadata": {
        "id": "dp1zAFA1nIWG"
      },
      "outputs": [],
      "source": []
    },
    {
      "cell_type": "markdown",
      "metadata": {
        "id": "BnKFd2UznIWG"
      },
      "source": [
        "# Exercise 1:\n",
        "Take age as an input, check its type, add 10 to it and show the output."
      ]
    },
    {
      "cell_type": "code",
      "execution_count": null,
      "metadata": {
        "id": "E5v2NG6EnIWG"
      },
      "outputs": [],
      "source": []
    },
    {
      "cell_type": "markdown",
      "metadata": {
        "id": "8Kq8b8j2lCRf"
      },
      "source": [
        "# 5. Conditional Statements - The Decision Makers 🤔\n",
        "Teaching your code to make choices"
      ]
    },
    {
      "cell_type": "code",
      "execution_count": null,
      "metadata": {
        "id": "9KXjE1Xc5Z-r"
      },
      "outputs": [],
      "source": [
        "temperature = 25\n",
        "\n",
        "if temperature > 30:\n",
        "    print(\"🔥 It's hot! Time for ice cream!\")\n",
        "elif temperature > 20:\n",
        "    print(\"🌤️ Perfect weather!\")\n",
        "elif temperature > 10:\n",
        "    print(\"🧥 Grab a jacket!\")\n",
        "else:\n",
        "    print(\"🥶 Brrr! Stay inside!\")"
      ]
    },
    {
      "cell_type": "markdown",
      "metadata": {
        "id": "Z4U9OvadnIWH"
      },
      "source": [
        "### QUESTION\n",
        "What will happen if you try the following?\n",
        "```\n",
        "mood = \"happy\" if temperature > 20 else \"grumpy\"\n",
        "print(mood)\n",
        "```"
      ]
    },
    {
      "cell_type": "code",
      "execution_count": null,
      "metadata": {
        "id": "qMzXIAE7nIWI"
      },
      "outputs": [],
      "source": []
    },
    {
      "cell_type": "markdown",
      "metadata": {
        "id": "Vmh3AJBGnIWJ"
      },
      "source": [
        "# 6. Comparison Operators - The Judges ⚖️"
      ]
    },
    {
      "cell_type": "code",
      "execution_count": null,
      "metadata": {
        "id": "GqeU4-Kd77Ra"
      },
      "outputs": [],
      "source": [
        "# The usual suspects\n",
        "print(5 == 5)    # True (equal)\n",
        "print(5 != 3)    # True (not equal)\n",
        "print(5 > 3)     # True (greater)\n",
        "print(5 < 3)     # False (less)\n",
        "print(5 >= 5)    # True (greater or equal)\n",
        "print(5 <= 4)    # False (less or equal)"
      ]
    },
    {
      "cell_type": "code",
      "execution_count": null,
      "metadata": {
        "id": "71xMWNd4nIWK"
      },
      "outputs": [],
      "source": [
        "# String comparisons\n",
        "print(\"apple\" == \"apple\")  # True\n",
        "print(\"Apple\" == \"apple\")  # False (case sensitive!)"
      ]
    },
    {
      "cell_type": "markdown",
      "metadata": {
        "id": "RUt6jqNMnIWX"
      },
      "source": [
        "### QUESTION\n",
        "What will happen if you try the following?\n",
        "```\n",
        "user_age = 18\n",
        "can_vote = user_age >= 18\n",
        "print(f\"Can vote:\", can_vote)\n",
        "```"
      ]
    },
    {
      "cell_type": "code",
      "execution_count": null,
      "metadata": {
        "id": "FhWxURzanIWY"
      },
      "outputs": [],
      "source": []
    },
    {
      "cell_type": "markdown",
      "metadata": {
        "id": "0pf9kl8CnIWZ"
      },
      "source": [
        "# 7. Logical Operators - The Connectors 🔗\n",
        "Combining conditions like a logic ninja"
      ]
    },
    {
      "cell_type": "code",
      "execution_count": null,
      "metadata": {
        "id": "DJWbCfZn-uQ8"
      },
      "outputs": [],
      "source": [
        "age = 25\n",
        "has_license = True\n",
        "has_car = False"
      ]
    },
    {
      "cell_type": "code",
      "execution_count": null,
      "metadata": {
        "id": "GhmZ9WSqnIWZ"
      },
      "outputs": [],
      "source": [
        "# AND - both must be true\n",
        "can_drive = age >= 16 and has_license\n",
        "print(f\"Can drive: {can_drive}\")"
      ]
    },
    {
      "cell_type": "code",
      "execution_count": null,
      "metadata": {
        "id": "im_dfQUrnIWa"
      },
      "outputs": [],
      "source": [
        "# OR - at least one must be true\n",
        "can_travel = has_car or has_license\n",
        "print(f\"Can travel: {can_travel}\")"
      ]
    },
    {
      "cell_type": "code",
      "execution_count": null,
      "metadata": {
        "id": "DM_ekNN7nIWa"
      },
      "outputs": [],
      "source": [
        "# NOT - flip the boolean\n",
        "is_minor = not (age >= 18)\n",
        "print(f\"Is minor: {is_minor}\")"
      ]
    },
    {
      "cell_type": "code",
      "execution_count": null,
      "metadata": {},
      "outputs": [],
      "source": [
        "age = input(\"enter your age: \")\n",
        "print(type(age))\n",
        "new_age = int(age) + 10\n",
        "print(\"your new age after adding 10\", new_age)"
      ]
    },
    {
      "cell_type": "markdown",
      "metadata": {
        "id": "86qK8SiUnIWa"
      },
      "source": [
        "### QUESTION\n",
        "What will happen if you try the following?\n",
        "```\n",
        "can_uber = (age >= 18) and (not has_car) and has_license\n",
        "```"
      ]
    },
    {
      "cell_type": "code",
      "execution_count": null,
      "metadata": {
        "id": "PH8ztdfWnIWb"
      },
      "outputs": [],
      "source": []
    },
    {
      "cell_type": "markdown",
      "metadata": {
        "id": "CAn3nP_YnIWb"
      },
      "source": [
        "# Exercise 2:\n",
        "Take age as an input of someone you like and print if they are minor, adult or senior citizen\n",
        "\n",
        "Hint:\n",
        "minor (0 - 16)\n",
        "adult (17 - 70)\n",
        "senior citizen (71 - 1000)"
      ]
    },
    {
      "cell_type": "code",
      "execution_count": null,
      "metadata": {
        "id": "RWnHbJ1unIWb"
      },
      "outputs": [],
      "source": []
    },
    {
      "cell_type": "markdown",
      "metadata": {
        "id": "5amOyd8vnIWb"
      },
      "source": [
        "# 8. For Loops - The Repetition Masters 🔄\n",
        "When you need to do something multiple times"
      ]
    },
    {
      "cell_type": "code",
      "execution_count": null,
      "metadata": {
        "id": "V3uwFcDFnIWc"
      },
      "outputs": [],
      "source": [
        "# Basic counting\n",
        "for i in range(5):\n",
        "    print(f\"Count: {i}\")"
      ]
    },
    {
      "cell_type": "code",
      "execution_count": null,
      "metadata": {
        "id": "Z1jC1SghnIWc"
      },
      "outputs": [],
      "source": [
        "# Counting with style\n",
        "for i in range(1, 6):\n",
        "    print(\"🎯\" * i)"
      ]
    },
    {
      "cell_type": "code",
      "execution_count": null,
      "metadata": {
        "id": "Lg0MqzVqnIWd"
      },
      "outputs": [],
      "source": [
        "# Looping through lists\n",
        "fruits = [\"apple\", \"banana\", \"cherry\"]\n",
        "for fruit in fruits:\n",
        "    print(f\"I love {fruit}!\")"
      ]
    },
    {
      "cell_type": "code",
      "execution_count": null,
      "metadata": {
        "id": "KIBMA-8vnIWd"
      },
      "outputs": [],
      "source": [
        "# Looping through strings\n",
        "for letter in \"PYTHON\":\n",
        "    print(f\"Letter: {letter}\")"
      ]
    },
    {
      "cell_type": "markdown",
      "metadata": {
        "id": "oQZdfIwjnIWe"
      },
      "source": [
        "### QUESTION\n",
        "What will happen if you try the following?\n",
        "```\n",
        "netaharu = [\"kp\", \"sheru\", \"puspa\"]\n",
        "for index, neta in enumerate(netaharu):\n",
        "    print(f\"{index}: {neta}\")\n",
        "```"
      ]
    },
    {
      "cell_type": "code",
      "execution_count": null,
      "metadata": {
        "id": "lxsYrCEenIWe"
      },
      "outputs": [],
      "source": []
    },
    {
      "cell_type": "markdown",
      "metadata": {
        "id": "hUQtWPUknIWf"
      },
      "source": [
        "# 9. While Loops - The Persistent Ones 🔁\n",
        "Keep going until something changes"
      ]
    },
    {
      "cell_type": "code",
      "execution_count": null,
      "metadata": {
        "id": "BNhB-TzdnIWg"
      },
      "outputs": [],
      "source": [
        "# Basic while loop\n",
        "countdown = 5\n",
        "while countdown > 0:\n",
        "    print(f\"Countdown: {countdown}\")\n",
        "    countdown -= 1    # countdown = countdown - 1\n",
        "print(\"🚀 Blast off!\")"
      ]
    },
    {
      "cell_type": "code",
      "execution_count": null,
      "metadata": {
        "id": "Fnpfh2h1nIWg"
      },
      "outputs": [],
      "source": [
        "# User input loop\n",
        "password = \"\"\n",
        "while password != \"secret\":\n",
        "    password = input(\"Enter password: \")\n",
        "    if password != \"secret\":\n",
        "        print(\"❌ Wrong password!\")\n",
        "print(\"✅ Access granted!\")"
      ]
    },
    {
      "cell_type": "markdown",
      "metadata": {
        "id": "s6g_wu7RnIWi"
      },
      "source": [
        "#### Infinite loop (careful!)\n",
        "```\n",
        "while True:\n",
        "        print(\"This runs forever!\")\n",
        "```"
      ]
    },
    {
      "cell_type": "markdown",
      "metadata": {
        "id": "s9SEv29qnIWj"
      },
      "source": [
        "# Exercise 3\n",
        "Print out which numbers are odd and which are even in between range of numbers of your choice."
      ]
    },
    {
      "cell_type": "code",
      "execution_count": null,
      "metadata": {
        "id": "7XLBtutwnIWk"
      },
      "outputs": [],
      "source": []
    },
    {
      "cell_type": "markdown",
      "metadata": {
        "id": "aPK4JSCznIWl"
      },
      "source": [
        "# 10. Functions - Your Code Helpers 🛠️\n",
        "Creating reusable blocks of code"
      ]
    },
    {
      "cell_type": "code",
      "execution_count": null,
      "metadata": {
        "id": "3WeuGxBanIWl"
      },
      "outputs": [],
      "source": [
        "# Basic function\n",
        "def greet():\n",
        "    print(\"Hello, World!\")\n",
        "\n",
        "greet()"
      ]
    },
    {
      "cell_type": "code",
      "execution_count": null,
      "metadata": {
        "id": "vCEYExSfnIWm"
      },
      "outputs": [],
      "source": [
        "# Function with parameters\n",
        "def greet_person(name):\n",
        "    print(f\"Hello, {name}!\")\n",
        "\n",
        "greet_person(\"Alice\")"
      ]
    },
    {
      "cell_type": "code",
      "execution_count": null,
      "metadata": {
        "id": "rhxemI9InIWm"
      },
      "outputs": [],
      "source": [
        "# Function with return value\n",
        "def add_numbers(a, b):\n",
        "    result = a + b\n",
        "    return result\n",
        "\n",
        "sum_result = add_numbers(5, 3)\n",
        "print(f\"Sum: {sum_result}\")"
      ]
    },
    {
      "cell_type": "markdown",
      "metadata": {
        "id": "XFPJcXFmnIWn"
      },
      "source": [
        "# 11. Lists - The Ordered Collections 📝\n",
        "Storing multiple items in order"
      ]
    },
    {
      "cell_type": "code",
      "execution_count": null,
      "metadata": {
        "id": "P9lmZj-OnIWo"
      },
      "outputs": [],
      "source": [
        "# Creating lists\n",
        "fruits = [\"apple\", \"banana\", \"cherry\"]\n",
        "numbers = [1, 2, 3, 4, 5]\n",
        "mixed = [\"hello\", 42, True, 3.14]"
      ]
    },
    {
      "cell_type": "code",
      "execution_count": null,
      "metadata": {
        "id": "21L5zDoenIWo"
      },
      "outputs": [],
      "source": [
        "# Accessing elements\n",
        "print(fruits[0])     # apple (first item)\n",
        "print(fruits[-1])    # cherry (last item)"
      ]
    },
    {
      "cell_type": "code",
      "execution_count": null,
      "metadata": {
        "id": "PjrU_iZ7nIWo"
      },
      "outputs": [],
      "source": [
        "# Slicing\n",
        "some_fruits = fruits[1:3]"
      ]
    },
    {
      "cell_type": "code",
      "execution_count": null,
      "metadata": {
        "id": "YG96-s-snIWp"
      },
      "outputs": [],
      "source": [
        "# Useful methods\n",
        "print(len(numbers))\n",
        "print(max(numbers))\n",
        "print(min(numbers))\n",
        "print(sum(numbers))"
      ]
    },
    {
      "cell_type": "markdown",
      "metadata": {
        "id": "0EWsG0lCnIWp"
      },
      "source": [
        "### QUESTION\n",
        "What will happen if you try the following?\n",
        "```\n",
        "scores = [85, 92, 78, 96, 88]\n",
        "scores.sort()           \n",
        "print(scores)           \n",
        "\n",
        "scores.reverse()\n",
        "print(scores)  \n",
        "```"
      ]
    },
    {
      "cell_type": "code",
      "execution_count": null,
      "metadata": {
        "id": "jdWeSPEwnIWq"
      },
      "outputs": [],
      "source": []
    },
    {
      "cell_type": "markdown",
      "metadata": {
        "id": "npesmb8GnIWq"
      },
      "source": [
        "# 12. Dictionaries - The Key-Value Store 🗂️\n",
        "Storing data with meaningful labels"
      ]
    },
    {
      "cell_type": "code",
      "execution_count": null,
      "metadata": {
        "id": "uDS9vGgxnIWq"
      },
      "outputs": [],
      "source": [
        "# Creating dictionaries\n",
        "student = {\n",
        "    \"name\": \"Ram\",\n",
        "    \"age\": 20,\n",
        "    \"grade\": \"A\",\n",
        "    \"subjects\": [\"Programming\", \"Engineering\"]\n",
        "}"
      ]
    },
    {
      "cell_type": "code",
      "execution_count": null,
      "metadata": {
        "id": "sHns-JrJnIWr"
      },
      "outputs": [],
      "source": [
        "# Accessing values\n",
        "print(student[\"name\"])\n",
        "print(student.get(\"age\"))"
      ]
    },
    {
      "cell_type": "markdown",
      "metadata": {
        "id": "WM6rjyJEnIWv"
      },
      "source": [
        "### QUESTION\n",
        "What will happen if you try the following?\n",
        "```\n",
        "student[\"email\"] = \"ramu@example.com\"\n",
        "student[\"age\"] = 21\n",
        "print(student)\n",
        "```"
      ]
    },
    {
      "cell_type": "code",
      "execution_count": null,
      "metadata": {
        "id": "NanDzuQOnIWv"
      },
      "outputs": [],
      "source": []
    },
    {
      "cell_type": "markdown",
      "metadata": {
        "id": "t5f3mlQGnIWv"
      },
      "source": [
        "# Exercise 4:\n",
        "Do **exercise 3** by using a function which prints if a number is even or odd. Use for loop in the given list and pass each number to the function.\n",
        "\n",
        "``` python\n",
        "[33, 42, 420, 69, 7]\n",
        "```"
      ]
    },
    {
      "cell_type": "code",
      "execution_count": null,
      "metadata": {
        "id": "OtsQQ-xlnIWw"
      },
      "outputs": [],
      "source": []
    },
    {
      "cell_type": "markdown",
      "metadata": {
        "id": "INBd7m3vGD_r"
      },
      "source": [
        "# Exercise 5\n",
        "Use the hints given to complete the challenge:"
      ]
    },
    {
      "cell_type": "code",
      "execution_count": null,
      "metadata": {
        "id": "BKV1HfZKGN8d"
      },
      "outputs": [],
      "source": [
        "# Mini-Challenge: Looping Through Data and Filtering with Functions\n",
        "\n",
        "# Imagine you have some data stored in a dictionary, your job is to complete all TODOs\n",
        "users = [\n",
        "    {\"name\": \"Rajesh Hamal\", \"age\": 28, \"is_active\": True},\n",
        "    {\"name\": \"John the don\", \"age\": 17, \"is_active\": False},\n",
        "    {\"name\": \"Ninja Hattori\", \"age\": 35, \"is_active\": True},\n",
        "    {\"name\": \"Emma Watson\", \"age\": 15, \"is_active\": True},\n",
        "    {\"name\": \"Bob\", \"age\": 22, \"is_active\": False}\n",
        "]\n",
        "\n",
        "# TODO 1: Write a loop that prints the name of each user.\n",
        "# Hint: Use a `for` loop and remember how to access dictionary values.\n",
        "\n",
        "# TODO 2: Modify the loop to only print names of users who are active.\n",
        "# Hint: Look at the value of the \"is_active\" key.\n",
        "\n",
        "# TODO 3: Now only print active users who are over 18.\n",
        "# Hint: Combine conditions with `and`.\n",
        "\n",
        "# TODO 4: Wrap that filtering logic in a function:\n",
        "#         def get_active_adults(user_list): -> returns a list of names\n",
        "# Hint: Initialize an empty list, loop through the users, apply the condition, append.\n",
        "\n",
        "# TODO 5: Print how many active adults were found.\n",
        "# Hint: `len()` is your friend.\n"
      ]
    },
    {
      "cell_type": "markdown",
      "metadata": {
        "id": "CaNi-iZLnIW3"
      },
      "source": [
        "# 13. Writing Reusable Scripts - The Philosophy 🎯\n",
        "From messy code to clean, reusable magic"
      ]
    },
    {
      "cell_type": "markdown",
      "metadata": {
        "id": "GSgHh4etnIW4"
      },
      "source": [
        "#### The Problem:"
      ]
    },
    {
      "cell_type": "code",
      "execution_count": null,
      "metadata": {
        "id": "-1hm_hrNnIW4"
      },
      "outputs": [],
      "source": [
        "# Messy script - does everything at once\n",
        "print(\"Calculator\")\n",
        "num1 = float(input(\"First number: \"))\n",
        "num2 = float(input(\"Second number: \"))\n",
        "result = num1 + num2\n",
        "print(f\"Result: {result}\")"
      ]
    },
    {
      "cell_type": "markdown",
      "metadata": {
        "id": "IqIymeF9nIW4"
      },
      "source": [
        " What if we want to multiply? Copy-paste everything? 😱"
      ]
    },
    {
      "cell_type": "markdown",
      "metadata": {
        "id": "1tzKDt2snIW5"
      },
      "source": [
        "#### The Solution:"
      ]
    },
    {
      "cell_type": "code",
      "execution_count": null,
      "metadata": {
        "id": "SW1ZDVyznIW5"
      },
      "outputs": [],
      "source": [
        "# Clean, reusable functions\n",
        "def get_number(prompt):\n",
        "    return float(input(prompt))\n",
        "\n",
        "def calculate(num1, num2, operation):\n",
        "    if operation == \"add\":\n",
        "        return num1 + num2\n",
        "    elif operation == \"multiply\":\n",
        "        return num1 * num2\n",
        "    # More operations..."
      ]
    },
    {
      "cell_type": "markdown",
      "metadata": {
        "id": "xnl5XVMtS49O"
      },
      "source": [
        "### Writing Standalone Portable Scripts\n",
        "Word Counter and Line Counter Script\n",
        "### 1. __name__ == \"__main__\"\n",
        "### 2. arguments parsing and command line execution"
      ]
    },
    {
      "cell_type": "code",
      "execution_count": null,
      "metadata": {
        "id": "cLNDmHUXTcRF"
      },
      "outputs": [],
      "source": []
    },
    {
      "cell_type": "markdown",
      "metadata": {
        "id": "kMqbpfhXnIW5"
      },
      "source": [
        "# 14. Python Classes - Creating Your Own Objects 🏗️\n",
        "Classes are like blueprints for creating objects. Think of them as cookie cutters!"
      ]
    },
    {
      "cell_type": "markdown",
      "metadata": {
        "id": "MI9_DmQ5nIW6"
      },
      "source": [
        "## Basic Class Example - Person\n",
        "Let's create a simple Person class to understand the basics"
      ]
    },
    {
      "cell_type": "code",
      "execution_count": null,
      "metadata": {
        "id": "G5jdAl7EnIW6"
      },
      "outputs": [],
      "source": [
        "# Creating a simple class\n",
        "class Person:\n",
        "    def __init__(self, name, age):\n",
        "        self.name = name\n",
        "        self.age = age\n",
        "\n",
        "    def greet(self):\n",
        "        return f\"Hello, my name is {self.name} and I'm {self.age} years old!\"\n",
        "\n",
        "\n",
        "# Creating objects (instances) from the class\n",
        "p1 = Person(\"KP Oli\", 72)\n",
        "p2 = Person(\"Prachanda\", 70)\n",
        "\n",
        "# Using methods\n",
        "print(p1.greet())\n",
        "print(p2.greet())\n",
        "\n",
        "# Accessing attributes\n",
        "print(f\"{p1.name} is {p1.age} years old\") # Bad Practice, but works"
      ]
    },
    {
      "cell_type": "code",
      "execution_count": null,
      "metadata": {
        "id": "XVLacWnSnIW6"
      },
      "outputs": [],
      "source": [
        "# Use Getters and Setters for better practice\n",
        "class Person:\n",
        "    def __init__(self, name, age):\n",
        "        self.name = name\n",
        "        self.age = age\n",
        "\n",
        "    def get_name(self):\n",
        "        return self.name\n",
        "\n",
        "    def get_age(self):\n",
        "        return self.age\n",
        "\n",
        "    def set_name(self, name):\n",
        "        self.name = name\n",
        "\n",
        "    def set_age(self, age):\n",
        "        self.age = age\n",
        "\n",
        "# Using class methods\n",
        "p1 = Person(\"Ramu\", 25)\n",
        "print(p1.get_name())\n",
        "print(p1.get_age())"
      ]
    },
    {
      "cell_type": "markdown",
      "metadata": {
        "id": "EN73F_UCnIW6"
      },
      "source": [
        "### QUESTION\n",
        "What will happen if you try the following?\n",
        "```python\n",
        "person3 = Person(\"Chandra\", 20)\n",
        "person3.hobby = \"Reading\"  # Adding a new attribute\n",
        "print(f\"{person3.name} likes {person3.hobby}\")\n",
        "```"
      ]
    },
    {
      "cell_type": "code",
      "execution_count": null,
      "metadata": {
        "id": "Qh-SJdCynIW8"
      },
      "outputs": [],
      "source": []
    },
    {
      "cell_type": "markdown",
      "metadata": {
        "id": "2m--aGTXnIW8"
      },
      "source": [
        "## Calculator Class Example\n",
        "Let's create a simple calculator using classes"
      ]
    },
    {
      "cell_type": "code",
      "execution_count": null,
      "metadata": {
        "id": "ZeHJtjvQnIW8"
      },
      "outputs": [],
      "source": [
        "class Calculator:\n",
        "    def add(self, a, b):\n",
        "        result = a + b\n",
        "\n",
        "        return result\n",
        "\n",
        "    def subtract(self, a, b):\n",
        "        result = a - b\n",
        "\n",
        "        return result\n",
        "\n",
        "    def multiply(self, a, b):\n",
        "        result = a * b\n",
        "\n",
        "        return result\n",
        "\n",
        "    def divide(self, a, b):\n",
        "        result = a / b\n",
        "\n",
        "        return result\n"
      ]
    },
    {
      "cell_type": "code",
      "execution_count": null,
      "metadata": {
        "id": "wNSJx7-AnIW9"
      },
      "outputs": [],
      "source": [
        "# Create a calculator object\n",
        "my_calc = Calculator()\n",
        "\n",
        "# Perform some calculations\n",
        "print(my_calc.add(10, 5))\n"
      ]
    },
    {
      "cell_type": "markdown",
      "metadata": {
        "id": "Fvf5apLVnIW-"
      },
      "source": [
        "# Exercise 5:\n",
        "- In similar fashion do divide, multiply\n",
        "- Try dividing by zero"
      ]
    },
    {
      "cell_type": "code",
      "execution_count": null,
      "metadata": {
        "id": "8vvTgc0nnIW-"
      },
      "outputs": [],
      "source": []
    },
    {
      "cell_type": "markdown",
      "metadata": {
        "id": "zhuNvz6onIW_"
      },
      "source": [
        "# 15. Error Handling - Expect the Unexpected 🛡️\n",
        "Making your scripts bulletproof"
      ]
    },
    {
      "cell_type": "code",
      "execution_count": null,
      "metadata": {
        "id": "p5YVwphV8msu",
        "outputId": "a0e29a31-a8e8-45aa-be81-011508de70f3"
      },
      "outputs": [
        {
          "ename": "ZeroDivisionError",
          "evalue": "division by zero",
          "output_type": "error",
          "traceback": [
            "\u001b[31m---------------------------------------------------------------------------\u001b[39m",
            "\u001b[31mZeroDivisionError\u001b[39m                         Traceback (most recent call last)",
            "\u001b[36mCell\u001b[39m\u001b[36m \u001b[39m\u001b[32mIn[16]\u001b[39m\u001b[32m, line 3\u001b[39m\n\u001b[32m      1\u001b[39m \u001b[38;5;66;03m#Divide by zero error\u001b[39;00m\n\u001b[32m      2\u001b[39m a = \u001b[32m10\u001b[39m\n\u001b[32m----> \u001b[39m\u001b[32m3\u001b[39m result = \u001b[43ma\u001b[49m\u001b[43m \u001b[49m\u001b[43m/\u001b[49m\u001b[43m \u001b[49m\u001b[32;43m0\u001b[39;49m\n\u001b[32m      4\u001b[39m \u001b[38;5;28mprint\u001b[39m(\u001b[33mf\u001b[39m\u001b[33m\"\u001b[39m\u001b[33mError: \u001b[39m\u001b[38;5;132;01m{\u001b[39;00me\u001b[38;5;132;01m}\u001b[39;00m\u001b[33m\"\u001b[39m)\n",
            "\u001b[31mZeroDivisionError\u001b[39m: division by zero"
          ]
        }
      ],
      "source": [
        "#Divide by zero error\n",
        "a = 10\n",
        "result = a / 0\n",
        "print(f\"Error: {e}\")"
      ]
    },
    {
      "cell_type": "code",
      "execution_count": null,
      "metadata": {
        "id": "i4pouwNx8msv",
        "outputId": "483886f3-cbbb-4929-c589-6c262f019897"
      },
      "outputs": [
        {
          "name": "stdout",
          "output_type": "stream",
          "text": [
            "Error: division by zero\n"
          ]
        }
      ],
      "source": [
        "#Divide by zero error\n",
        "a = 10\n",
        "try:\n",
        "    result = a / 0\n",
        "except Exception as e:\n",
        "    print(f\"Error: {e}\")"
      ]
    },
    {
      "cell_type": "code",
      "execution_count": null,
      "metadata": {
        "id": "YES8hbzX8msv",
        "outputId": "8304c209-4d07-4ce0-c7d1-9dc665480384"
      },
      "outputs": [
        {
          "ename": "NameError",
          "evalue": "name 'naam_xyna' is not defined",
          "output_type": "error",
          "traceback": [
            "\u001b[31m---------------------------------------------------------------------------\u001b[39m",
            "\u001b[31mNameError\u001b[39m                                 Traceback (most recent call last)",
            "\u001b[36mCell\u001b[39m\u001b[36m \u001b[39m\u001b[32mIn[12]\u001b[39m\u001b[32m, line 1\u001b[39m\n\u001b[32m----> \u001b[39m\u001b[32m1\u001b[39m \u001b[38;5;28mprint\u001b[39m(\u001b[43mnaam_xyna\u001b[49m)\n",
            "\u001b[31mNameError\u001b[39m: name 'naam_xyna' is not defined"
          ]
        }
      ],
      "source": [
        "#Error when printing an undefined variable\n",
        "print(naam_xaina)"
      ]
    },
    {
      "cell_type": "code",
      "execution_count": null,
      "metadata": {
        "id": "5lm3_i-B8msv",
        "outputId": "ab7aa669-a3d4-4eeb-8d7b-6acee20acf2f"
      },
      "outputs": [
        {
          "name": "stdout",
          "output_type": "stream",
          "text": [
            "Error: name 'naam_xyna' is not defined\n"
          ]
        }
      ],
      "source": [
        "#Name Error\n",
        "try:\n",
        "    print(naam_xaina)\n",
        "except Exception as e:\n",
        "    print(f\"Error: {e}\")"
      ]
    },
    {
      "cell_type": "code",
      "execution_count": null,
      "metadata": {
        "id": "Otlg02fA8msv",
        "outputId": "0b2113cb-19dd-46ad-f382-13107db62627"
      },
      "outputs": [
        {
          "name": "stdout",
          "output_type": "stream",
          "text": [
            "Phaile define tw garnu parcha!\n"
          ]
        }
      ],
      "source": [
        "#You can except named exceptions directly and show your own message\n",
        "try:\n",
        "    print(naam_xaina)\n",
        "except NameError:\n",
        "    print(\"Pahila define gara la.\")"
      ]
    },
    {
      "cell_type": "code",
      "execution_count": null,
      "metadata": {
        "id": "uDkSgo2z8msv",
        "outputId": "e1c740cc-72b1-4f22-ee03-339cd2e8350f"
      },
      "outputs": [
        {
          "name": "stdout",
          "output_type": "stream",
          "text": [
            "Kaha zero bata divide garyako.🤣\n"
          ]
        }
      ],
      "source": [
        "#You can except named exceptions directly and show your own message\n",
        "a = 10\n",
        "try:\n",
        "    test = a/0\n",
        "except ZeroDivisionError:\n",
        "    print(\"Zero le divide nagara na.\")"
      ]
    },
    {
      "cell_type": "code",
      "execution_count": null,
      "metadata": {
        "id": "yLx49DdJnIW_",
        "outputId": "c6867e91-2a1e-4d72-fd76-f28d7c086bdb"
      },
      "outputs": [
        {
          "name": "stdout",
          "output_type": "stream",
          "text": [
            "Cannot divide by zero!\n"
          ]
        }
      ],
      "source": [
        "# Single Exception\n",
        "def safe_divide(a, b):\n",
        "    \"\"\"Division that won't crash your program\"\"\"\n",
        "    try:\n",
        "        result = a / b\n",
        "        return result\n",
        "    except ZeroDivisionError:\n",
        "        print(\"Cannot divide by zero!\")\n",
        "        return None\n",
        "    except TypeError:\n",
        "        print(\"Please provide numbers!\")\n",
        "        return None\n",
        "\n",
        "result = safe_divide(2, 0)"
      ]
    },
    {
      "cell_type": "markdown",
      "metadata": {
        "id": "qTcMeaTInIW_"
      },
      "source": [
        "# 16. File Operations - Reading and Writing 📁\n",
        "Making your scripts work with files"
      ]
    },
    {
      "cell_type": "markdown",
      "metadata": {
        "id": "Mtb-zL-n8msw"
      },
      "source": [
        "### File Operation Modes\n",
        "- 'r' : Opens file for reading, error if not found.\n",
        "- 'w' : Opens file for writing, overwrites if exists.\n",
        "- 'a' : Opens file to append, creates if not exists."
      ]
    },
    {
      "cell_type": "markdown",
      "metadata": {
        "id": "HP5ez4-68msw"
      },
      "source": [
        "## Aam Jindagi"
      ]
    },
    {
      "cell_type": "code",
      "execution_count": null,
      "metadata": {
        "id": "hdaZDIIJ8msw"
      },
      "outputs": [],
      "source": [
        "#Creating a file\n",
        "f = open(\"example.txt\", \"w\")\n",
        "f.write(\"Hello, World!\")\n",
        "f.close()"
      ]
    },
    {
      "cell_type": "code",
      "execution_count": null,
      "metadata": {
        "id": "e7j6_8_Y8msw"
      },
      "outputs": [],
      "source": [
        "#appending to the file\n",
        "f = open(\"example.txt\", \"a\")\n",
        "f.write(\" I am attending Software Fellowship!\")\n",
        "f.close()"
      ]
    },
    {
      "cell_type": "code",
      "execution_count": null,
      "metadata": {
        "id": "TKO7HAUd8msw",
        "outputId": "2f5c5579-55fe-4de7-92fc-c8e7158a24de"
      },
      "outputs": [
        {
          "name": "stdout",
          "output_type": "stream",
          "text": [
            "Hello, World! Appending some text! I am attending Python Fellowship!\n"
          ]
        }
      ],
      "source": [
        "#reading from the file\n",
        "f = open(\"example.txt\", \"r\")\n",
        "content = f.read()\n",
        "print(content)\n",
        "f.close()"
      ]
    },
    {
      "cell_type": "markdown",
      "metadata": {
        "id": "sIBA7Yzp8msx"
      },
      "source": [
        "## Mentos Jindagi"
      ]
    },
    {
      "cell_type": "code",
      "execution_count": null,
      "metadata": {
        "id": "JGWJS8WW8msx"
      },
      "outputs": [],
      "source": [
        "''' If you do just f = open(...), you must manually\n",
        "call f.close(), or the file might stay open, causing memory leaks or file lock issues. '''"
      ]
    },
    {
      "cell_type": "code",
      "execution_count": null,
      "metadata": {
        "id": "jRf_qQtk8msx"
      },
      "outputs": [],
      "source": [
        "#with keyword to create new file\n",
        "with open(\"sample2.txt\",'w') as f:\n",
        "    f.write(\"Selmon Bhai\")"
      ]
    },
    {
      "cell_type": "code",
      "execution_count": null,
      "metadata": {
        "id": "x4fEJJX38msx",
        "outputId": "f3fb47e9-08f5-4498-da95-2030eb524aad"
      },
      "outputs": [
        {
          "name": "stdout",
          "output_type": "stream",
          "text": [
            "Selmon Bhai\n"
          ]
        }
      ],
      "source": [
        "#with keyboard to read from file\n",
        "with open(\"sample2.txt\",'r') as f:\n",
        "    s = f.read()\n",
        "    print(s)"
      ]
    },
    {
      "cell_type": "markdown",
      "metadata": {
        "id": "_DiEN1V_8msy"
      },
      "source": [
        "Tips : `write only accept string so before writing to file convert numbers to string`"
      ]
    },
    {
      "cell_type": "markdown",
      "metadata": {
        "id": "xbOpSk0e8msy"
      },
      "source": [
        "### Q) Create a file named number to store starting 100 numbers"
      ]
    },
    {
      "cell_type": "code",
      "execution_count": null,
      "metadata": {
        "id": "IOj6wl2q8msy"
      },
      "outputs": [],
      "source": [
        "#Code here: Hint: Use range(1,101) with for loop\n",
        "#print('str(i)')"
      ]
    },
    {
      "cell_type": "markdown",
      "metadata": {
        "id": "HFmxZn9lnIXA"
      },
      "source": [
        "# API Usage"
      ]
    },
    {
      "cell_type": "markdown",
      "metadata": {
        "id": "UURKaONGnIXB"
      },
      "source": [
        "# 17. Simple Currency Exchange System"
      ]
    },
    {
      "cell_type": "markdown",
      "metadata": {
        "id": "cRp6-ayvnIXB"
      },
      "source": [
        "[Open File](API-Usage/currency_exchange_system.py)"
      ]
    },
    {
      "cell_type": "code",
      "execution_count": null,
      "metadata": {
        "id": "qYgNlXZGnIXB"
      },
      "outputs": [],
      "source": []
    },
    {
      "cell_type": "markdown",
      "metadata": {
        "id": "5rMqcWWInIXC"
      },
      "source": [
        "# 18. Chat with Gemini"
      ]
    },
    {
      "cell_type": "markdown",
      "metadata": {
        "id": "6dFVnCIfnIXC"
      },
      "source": [
        "[Open File](API-Usage\\gemini_chat.py)"
      ]
    },
    {
      "cell_type": "code",
      "execution_count": null,
      "metadata": {
        "id": "RUyrcdFanIXD"
      },
      "outputs": [],
      "source": []
    },
    {
      "cell_type": "markdown",
      "metadata": {
        "id": "9wG6S2UNnIXD"
      },
      "source": [
        "# Lab/Assignment\n",
        "## Build a CLI tool that consumes an external API\n",
        "## Use key less API like:\n",
        "1.  #### Cat Facts\n",
        "- Get random cat facts via text message every day.\n",
        "```\n",
        "https://cat-fact.herokuapp.com/facts\n",
        "```\n",
        "\n",
        "2. #### Dogs\n",
        "- Cheer yourself up with random dog images.\n",
        "```\n",
        "https://dog.ceo/api/breeds/image/random\n",
        "```\n",
        "\n",
        "3. #### Jokes\n",
        "- Get random jokes. You can also get jokes according to type (e.g., programming jokes only).\n",
        "```\n",
        "https://official-joke-api.appspot.com/random_joke\n",
        "```\n",
        "\n",
        "4. #### Bored\n",
        "- Find something to do by getting suggestions for random activities.\n",
        "```\n",
        "https://www.boredapi.com/api/activity\n",
        "```\n",
        "\n",
        "## Or use API with key like Gemini Above"
      ]
    },
    {
      "cell_type": "markdown",
      "metadata": {
        "id": "qNHVdr0qUfVE"
      },
      "source": [
        "# Final Assignment: Generate HTML from an API using Python\n",
        "\n",
        "## Objective\n",
        "\n",
        "Write a Python script that:\n",
        "\n",
        "1. Makes a request to a public API.\n",
        "2. Extracts data from the response.\n",
        "3. Inserts the data into a predefined HTML structure.\n",
        "4. Saves the result as an `.html` file in the current directory.\n",
        "5. Automatically opens the HTML file in the default web browser.\n",
        "\n",
        "---\n",
        "\n",
        "## 📦 Requirements\n",
        "\n",
        "- Python 3.x\n",
        "- `requests` module (install with `pip install requests` if not already installed)\n",
        "\n",
        "---\n",
        "\n",
        "## 📝 Instructions\n",
        "\n",
        "1. **Choose a Public API**\n",
        "   - Example APIs:\n",
        "     - [JSONPlaceholder](https://jsonplaceholder.typicode.com/) (e.g., posts, users)\n",
        "     - [Official Joke API](https://official-joke-api.appspot.com/random_joke)\n",
        "     - [Dog CEO API](https://dog.ceo/dog-api/) (random dog image)\n",
        "     - [Kanye Rest](https://api.kanye.rest/) (random Kanye quote)\n",
        "\n",
        "2. **Fetch Data**\n",
        "   - Use the `requests` library to make a GET request to the API.\n",
        "   - Parse the JSON response and extract the relevant fields.\n",
        "\n",
        "3. **Prepare HTML Template**\n",
        "   - Use a simple HTML string with placeholders like:\n",
        "     ```html\n",
        "     <html>\n",
        "       <head><title>{{title}}</title></head>\n",
        "       <body>\n",
        "         <h1>{{header}}</h1>\n",
        "         <p>{{content}}</p>\n",
        "       </body>\n",
        "     </html>\n",
        "     ```\n",
        "   - Replace the placeholders with data from the API using string formatting or basic templating.\n",
        "\n",
        "4. **Write to File**\n",
        "   - Save the final HTML string to a file named something like `output.html` in the current directory.\n",
        "\n",
        "5. **Open in Browser**\n",
        "   - Use Python’s `webbrowser` module:\n",
        "     ```python\n",
        "     import webbrowser, os\n",
        "     webbrowser.open('file://' + os.path.abspath(\"output.html\"))\n",
        "     ```\n",
        "\n",
        "---\n",
        "\n",
        "## ✅ Deliverables\n",
        "\n",
        "- A `.py` script that:\n",
        "  - Fetches data from an API\n",
        "  - Creates an HTML file with the response content\n",
        "  - Opens the file in the browser\n",
        "\n",
        "---\n",
        "\n",
        "## 🎯 (Optional)\n",
        "\n",
        "- Add styling using inline CSS or a simple `<style>` block.\n",
        "- Handle API failures gracefully (e.g., display an error message in the HTML).\n",
        "- Loop through multiple items from the API (e.g., 5 jokes or 3 posts) and insert them as a list.\n",
        "\n",
        "---\n",
        "\n",
        "## 💡 Hints\n",
        "\n",
        "- Use `f-strings` or the `format()` method to insert data into your template.\n",
        "- Use `json()` method of the response object to parse JSON.\n"
      ]
    }
  ],
  "metadata": {
    "colab": {
      "collapsed_sections": [
        "Tyi3ADg1k_Kb",
        "8Kq8b8j2lCRf",
        "Eap0oe3ulFlK",
        "gqRiowXelIi6",
        "Gmic3PW8lLe5",
        "Q6fxQnqElOIv",
        "seAUD-HZlROw",
        "FJ5p0UEQlUhE",
        "ZlfCzuNMlYS1",
        "wpuoUGdalbYY",
        "QktzDmgSld39"
      ],
      "provenance": []
    },
    "kernelspec": {
      "display_name": "base",
      "language": "python",
      "name": "python3"
    },
    "language_info": {
      "codemirror_mode": {
        "name": "ipython",
        "version": 3
      },
      "file_extension": ".py",
      "mimetype": "text/x-python",
      "name": "python",
      "nbconvert_exporter": "python",
      "pygments_lexer": "ipython3",
      "version": "3.12.7"
    }
  },
  "nbformat": 4,
  "nbformat_minor": 0
}
